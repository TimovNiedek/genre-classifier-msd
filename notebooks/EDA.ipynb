{
 "cells": [
  {
   "cell_type": "markdown",
   "id": "5dd1cdd5-a322-465c-8019-a736d2617e45",
   "metadata": {},
   "source": [
    "# EDA\n",
    "\n",
    "This notebook contains some code for exploratory data analysis on the Million Song Dataset. The task is to add automatic tags to songs based on "
   ]
  },
  {
   "cell_type": "code",
   "execution_count": 1,
   "id": "0d747de9-6ff1-46ac-a4b9-4b5054bee986",
   "metadata": {},
   "outputs": [],
   "source": [
    "import h5py\n",
    "import json\n",
    "from pathlib import Path\n",
    "import matplotlib.pyplot as plt\n",
    "import numpy as np\n",
    "from collections import Counter\n",
    "import pandas as pd\n",
    "from tqdm.notebook import tqdm"
   ]
  },
  {
   "cell_type": "markdown",
   "id": "cae023e7-47b7-4420-baf4-d752808c736f",
   "metadata": {},
   "source": [
    "## Fetch data\n",
    "\n",
    "Execute only first time."
   ]
  },
  {
   "cell_type": "code",
   "execution_count": null,
   "id": "e1b5e641-7a76-4b24-8f8b-0d5ad304e174",
   "metadata": {},
   "outputs": [],
   "source": [
    "!mkdir data/"
   ]
  },
  {
   "cell_type": "code",
   "execution_count": null,
   "id": "d754bd70-b13f-428f-aebf-d74a8dd360fc",
   "metadata": {},
   "outputs": [],
   "source": [
    "# Get the Million Song Subset\n",
    "!wget -P data/ http://labrosa.ee.columbia.edu/~dpwe/tmp/millionsongsubset.tar.gz\n",
    "!tar -xzvf data/millionsongsubset.tar.gz -C data/"
   ]
  },
  {
   "cell_type": "code",
   "execution_count": null,
   "id": "ae8e37a3-1865-4d21-a724-2913db5916a5",
   "metadata": {
    "scrolled": true
   },
   "outputs": [],
   "source": [
    "# Get the LastFM data for the subset\n",
    "!wget -P data/ http://millionsongdataset.com/sites/default/files/lastfm/lastfm_subset.zip\n",
    "!unzip data/lastfm_subset.zip -d data/"
   ]
  },
  {
   "cell_type": "code",
   "execution_count": null,
   "id": "0aa2f5e2-520a-4aba-bb14-3f3552af5931",
   "metadata": {
    "scrolled": true
   },
   "outputs": [],
   "source": [
    "!tree data/"
   ]
  },
  {
   "cell_type": "markdown",
   "id": "13338024-b1b0-4ead-9325-80b774dc06a2",
   "metadata": {
    "jp-MarkdownHeadingCollapsed": true
   },
   "source": [
    "## Inspect a single file"
   ]
  },
  {
   "cell_type": "code",
   "execution_count": 8,
   "id": "3050fa52-722c-4129-8dca-8a35ab8e6a86",
   "metadata": {},
   "outputs": [],
   "source": [
    "PATH = \"data/MillionSongSubset/A/A/A/TRAAAAW128F429D538.h5\""
   ]
  },
  {
   "cell_type": "code",
   "execution_count": 9,
   "id": "05915ad8-f5f6-4417-934a-f972ef643a11",
   "metadata": {},
   "outputs": [
    {
     "name": "stdout",
     "output_type": "stream",
     "text": [
      "Keys: <KeysViewHDF5 ['analysis', 'metadata', 'musicbrainz']>\n",
      "Analysis: <KeysViewHDF5 ['bars_confidence', 'bars_start', 'beats_confidence', 'beats_start', 'sections_confidence', 'sections_start', 'segments_confidence', 'segments_loudness_max', 'segments_loudness_max_time', 'segments_loudness_start', 'segments_pitches', 'segments_start', 'segments_timbre', 'songs', 'tatums_confidence', 'tatums_start']>\n",
      "Metadata: <KeysViewHDF5 ['artist_terms', 'artist_terms_freq', 'artist_terms_weight', 'similar_artists', 'songs']>\n",
      "Musicbrainz: <KeysViewHDF5 ['artist_mbtags', 'artist_mbtags_count', 'songs']>\n"
     ]
    }
   ],
   "source": [
    "# Get an idea of the structure of the EchoNest data\n",
    "with h5py.File(PATH, \"r\") as f:\n",
    "    print(\"Keys:\", f.keys()) \n",
    "    print(\"Analysis:\", f['analysis'].keys())\n",
    "    print(\"Metadata:\", f['metadata'].keys())\n",
    "    print(\"Musicbrainz:\", f['musicbrainz'].keys())"
   ]
  },
  {
   "cell_type": "code",
   "execution_count": 9,
   "id": "440de38c-cb95-4d6f-bb20-9ca229a6af29",
   "metadata": {},
   "outputs": [],
   "source": [
    "PATH = \"data/lastfm_subset/A/A/A/TRAAAAW128F429D538.json\""
   ]
  },
  {
   "cell_type": "code",
   "execution_count": 10,
   "id": "2d6e120c-1b74-4f1b-9dcb-7f6ea224b29b",
   "metadata": {},
   "outputs": [
    {
     "name": "stdout",
     "output_type": "stream",
     "text": [
      "dict_keys(['artist', 'timestamp', 'similars', 'tags', 'track_id', 'title'])\n",
      "[['Bay Area', '100'], ['hieroglyiphics', '100'], ['classic', '50'], ['Hip-Hop', '50'], ['stream', '50'], ['OG', '50'], ['1979-2006: A Hip-Hop Odyssey - 800 Tracks In A 48 Minute Mix', '50'], ['heiroglyphics', '50'], ['oaksterdamn', '50'], ['heard on Pandora', '0']]\n"
     ]
    }
   ],
   "source": [
    "with open(PATH, 'r') as f:\n",
    "    data = json.load(f)\n",
    "    print(data.keys())\n",
    "    print(data['tags'])"
   ]
  },
  {
   "cell_type": "markdown",
   "id": "43b3f9fb-a4f7-4bd0-aa5f-520ab391a9fd",
   "metadata": {},
   "source": [
    "## Filtered list of genres\n",
    "\n",
    "To filter the available tags for genre identifiers, we use an external source of spotify data and normalize it."
   ]
  },
  {
   "cell_type": "code",
   "execution_count": 2,
   "id": "e804e138-7bcc-43b6-9d9d-f6fd8da23aa1",
   "metadata": {},
   "outputs": [
    {
     "name": "stdout",
     "output_type": "stream",
     "text": [
      "--2024-07-24 11:14:09--  https://gist.githubusercontent.com/andytlr/4104c667a62d8145aa3a/raw/2d044152bcacf98d401b71df2cb67fade8e490c9/spotify-genres.md\n",
      "Resolving gist.githubusercontent.com (gist.githubusercontent.com)... 185.199.111.133, 185.199.109.133, 185.199.108.133, ...\n",
      "Connecting to gist.githubusercontent.com (gist.githubusercontent.com)|185.199.111.133|:443... connected.\n",
      "HTTP request sent, awaiting response... 200 OK\n",
      "Length: 22357 (22K) [text/plain]\n",
      "Saving to: ‘data/spotify-genres.md.1’\n",
      "\n",
      "spotify-genres.md.1 100%[===================>]  21,83K  --.-KB/s    in 0,01s   \n",
      "\n",
      "2024-07-24 11:14:09 (1,61 MB/s) - ‘data/spotify-genres.md.1’ saved [22357/22357]\n",
      "\n"
     ]
    }
   ],
   "source": [
    "!wget -P data/ https://gist.githubusercontent.com/andytlr/4104c667a62d8145aa3a/raw/2d044152bcacf98d401b71df2cb67fade8e490c9/spotify-genres.md"
   ]
  },
  {
   "cell_type": "code",
   "execution_count": 4,
   "id": "501b6fff-9e7b-45aa-91af-49b1f6561934",
   "metadata": {},
   "outputs": [],
   "source": [
    "with open('data/spotify-genres.md', 'r') as f:\n",
    "    genre_lines = f.readlines()"
   ]
  },
  {
   "cell_type": "code",
   "execution_count": 5,
   "id": "3ab35a4d-bbef-4bf7-a703-63295c838500",
   "metadata": {},
   "outputs": [],
   "source": [
    "def normalize_genre(genre_str) -> str:\n",
    "    return genre_str.lower().replace(\"-\", \" \")"
   ]
  },
  {
   "cell_type": "code",
   "execution_count": 6,
   "id": "0e789359-de53-45e3-a80e-cf36746d7497",
   "metadata": {},
   "outputs": [],
   "source": [
    "SPOTIFY_GENRES = []\n",
    "for line in genre_lines[4:]:\n",
    "    genre = line.strip()[3:]\n",
    "    SPOTIFY_GENRES.append(normalize_genre(genre))"
   ]
  },
  {
   "cell_type": "code",
   "execution_count": 7,
   "id": "9472bab1-e17e-4c32-8d1d-5ec0cae274a8",
   "metadata": {},
   "outputs": [
    {
     "data": {
      "text/plain": [
       "['a cappella',\n",
       " 'abstract',\n",
       " 'abstract beats',\n",
       " 'abstract hip hop',\n",
       " 'abstract idm',\n",
       " 'abstractro',\n",
       " 'accordion',\n",
       " 'acid house',\n",
       " 'acid jazz',\n",
       " 'acid techno']"
      ]
     },
     "execution_count": 7,
     "metadata": {},
     "output_type": "execute_result"
    }
   ],
   "source": [
    "SPOTIFY_GENRES[:10]"
   ]
  },
  {
   "cell_type": "markdown",
   "id": "883eadba-bd8b-4734-a89a-0551592381c3",
   "metadata": {},
   "source": [
    "## Extracting genre labels from LastFM data\n",
    "\n",
    "The target variable will be the genre. We can take these from the lastfm json files. As we can see, there are many tags that are not necessarily related to genre. We'll filter those out by finding a comprehensive list of genre names and checking whether the tag is part of it."
   ]
  },
  {
   "cell_type": "code",
   "execution_count": 6,
   "id": "48af75b9-25a0-4c13-a21c-920dcc6e32fd",
   "metadata": {},
   "outputs": [],
   "source": [
    "def get_genres(track_data: dict) -> list[str]:\n",
    "    lastfm_tags = [normalize_genre(tag[0]) for tag in track_data['tags']]\n",
    "    genre_tags = [tag for tag in lastfm_tags if tag in genres]\n",
    "    return genre_tags"
   ]
  },
  {
   "cell_type": "code",
   "execution_count": 11,
   "id": "4a77b8ea-e549-4e76-aaea-ccb0f56fe157",
   "metadata": {},
   "outputs": [
    {
     "data": {
      "text/plain": [
       "['hip hop']"
      ]
     },
     "execution_count": 11,
     "metadata": {},
     "output_type": "execute_result"
    }
   ],
   "source": [
    "get_genres(data)"
   ]
  },
  {
   "cell_type": "code",
   "execution_count": 13,
   "id": "625ecf66-52e6-480a-99a8-cb811d30c180",
   "metadata": {
    "scrolled": true
   },
   "outputs": [
    {
     "name": "stdout",
     "output_type": "stream",
     "text": [
      "[['pop', '100'], ['80s', '82'], ['70s', '64'], ['classic rock', '54'], ['soft rock', '33'], ['soul', '29'], ['rock', '27'], ['male vocalists', '25'], ['oldies', '13'], ['catchy', '11'], ['yacht rock', '9'], ['usa hot 100 number one hit', '9'], [\"70's\", '7'], ['77davez-all-tracks', '7'], ['Blue-Eyed Soul', '5'], ['RB', '5'], ['philly soul', '5'], ['pop rock', '5'], ['Mellow', '5'], ['favorites', '5'], ['fun', '5'], ['easy listening', '3'], ['ws2010 - 17', '3'], ['rich girl-hall oates', '3'], ['1977 songs', '3'], ['AM Gold', '3'], ['1976', '3'], ['old but good', '3'], ['classic', '3'], ['american', '3'], ['favorite songs', '3'], ['franziska loves it', '1'], ['RichGirl', '1'], ['Philipp likes it', '1'], ['favorite by this duo', '1'], ['green tag', '1'], ['Zara', '1'], ['vocalization', '1'], ['The REALLY loved', '1'], ['Philadelphia soul', '1'], ['Whiplash', '1'], ['albatross', '1'], ['halloates', '1'], ['hip hop sample', '1'], ['number one hits', '1'], ['soft rock pop', '1'], ['Classic Hit', '1'], ['not-quite-full-blown-rock', '1'], ['life song', '1'], ['84 bpm', '1'], ['39', '1'], ['sgnfav', '1'], ['day drive', '1'], ['lyricism', '1'], ['80s Pop', '1'], ['sgn playlist', '1'], ['music to drive', '1'], [\"1970's\", '1'], ['fear and loathing', '1'], ['sunnyday', '1'], ['Cheeze', '1'], ['barry whitefunk', '1'], ['drunk jams', '1'], ['Kloron - Top 555 van 2010', '1'], ['english', '1'], ['tgovender', '1'], ['is my jam', '1'], ['good old fashioned dang good music', '1'], ['quite next week', '1'], ['FM 70s', '1'], ['top tracks hated by perceval', '1'], ['billboard hits to check out - the 70s', '1'], ['aloamusik', '1'], ['sotd27', '1'], ['70s Blockbusters', '1'], ['cookdandbombd', '1'], ['epic', '1'], ['Blair Waldorf', '1'], ['This is a down to earth song I remember growing up', '1'], ['Brems Tagg radio', '1'], ['super-smooth', '1'], ['hall oats', '1'], ['sunky foal', '1'], ['daytimeradio', '1'], ['daryl hall john oates', '1'], ['moses mellow rock', '1'], ['redhalo 10 tracks contest', '1'], ['my Favorite 80s songs', '1'], ['steelydan', '1'], ['franziskas old school', '1'], ['Rich Girl - Hall n Oates', '1'], ['funny', '1'], ['smart', '1'], ['old favorites', '1'], ['songs i love', '1'], ['sing', '1'], ['Girl', '1'], ['1977', '1'], ['Love', '1'], ['funk', '1']]\n",
      "['pop', 'classic rock', 'soft rock', 'soul', 'rock', 'pop rock', 'easy listening', 'funk']\n",
      "\n",
      "[['soul', '100'], ['dance', '50'], ['90s', '50'], ['Neo-Soul', '50'], ['00', '50'], ['relaxation', '50'], ['Pearl Fashion Music', '50'], ['wieczorny chill hehehehe', '50'], ['ZapLovedTracks', '50'], ['From You To Me', '50']]\n",
      "['soul', 'neo soul']\n",
      "\n",
      "[['november', '100'], ['gaita zuliana', '100']]\n",
      "[]\n",
      "\n",
      "[]\n",
      "[]\n",
      "\n",
      "[['blues', '100'], ['Arc Angels - See what tomorrow brings', '100'], ['blues rock', '50'], ['missing you', '50'], ['freaking depressing', '50'], ['backporch music', '50']]\n",
      "['blues', 'blues rock']\n",
      "\n",
      "[]\n",
      "[]\n",
      "\n",
      "[['vocal', '100'], ['danceable', '100']]\n",
      "[]\n",
      "\n",
      "[['humppa', '100'], ['finnish', '33'], ['humour', '33']]\n",
      "[]\n",
      "\n",
      "[['punk', '100'], ['Rob and Gems', '20'], ['perfect teenhood', '20'], ['The Distillers einfach Hammer', '20'], ['lloorren', '20'], ['own it', '20'], ['seen', '20'], ['riding in cars with BOYS', '20'], ['hard punk', '20'], ['female', '20'], ['Favourites', '20'], ['punk rock', '20'], ['alternative', '20'], ['rock', '20'], ['metal', '20'], ['favorites', '0'], ['rock-mujeres', '0']]\n",
      "['punk', 'rock', 'metal']\n",
      "\n",
      "[]\n",
      "[]\n",
      "\n",
      "[]\n",
      "[]\n",
      "\n",
      "[]\n",
      "[]\n",
      "\n",
      "[['instrumental', '100'], ['drums', '100']]\n",
      "[]\n",
      "\n",
      "[['spooky', '100'], ['powersynth', '100'], ['Mellow', '75'], ['powerful', '75'], ['glitchy', '75'], ['DarkLight', '75'], ['grindy', '75'], ['freak march', '50'], ['cyberlimping', '50'], ['ebm-powernoise-psytrance', '25']]\n",
      "[]\n",
      "\n",
      "[]\n",
      "[]\n",
      "\n",
      "[['Garage Rock', '100'], ['Stoner Rock', '50'], ['hard rock', '50'], ['alternative', '50'], ['00s', '50'], ['glam rock', '50'], ['cowbell', '50'], ['phrenic polluters', '50']]\n",
      "['garage rock', 'stoner rock', 'hard rock', 'glam rock']\n",
      "\n",
      "[['alternative', '100'], ['alternative rock', '62'], ['radiohead', '55'], ['rock', '53'], ['indie', '46'], ['british', '18'], ['indie rock', '18'], ['Awesome', '14'], ['2003', '11'], ['urban', '11'], ['war', '11'], ['wind', '9'], ['favorites', '9'], ['electronic', '9'], ['00s', '9'], ['songs for bicycling', '9'], ['zu spaet zur schule radeln', '7'], ['political', '7'], ['art rock', '7'], ['FUCKING AWESOME', '7'], ['psychedelic', '5'], ['best', '5'], ['music to procrastinating and forget world', '3'], ['brit pop', '3'], ['fav', '3'], ['Absolute Genuis', '3'], ['talkin bout my generation', '3'], ['loved', '3'], ['autumn tapes', '3'], ['great riff', '3'], ['unbelievable', '3'], ['surrealism', '3'], ['Great album openers', '3'], ['Songs to Die for', '3'], ['absentminded', '3'], ['best album openers', '3'], ['sing along song', '3'], ['emotional and abstract', '3'], ['very lukewarm', '3'], ['brain rock', '3'], ['best songs ever recorded', '3'], ['painfully coloured', '3'], ['bartfavs', '3'], ['beautiful', '3'], ['melancholy', '3'], ['experimental', '3'], ['melancholic', '3'], ['cool', '3'], ['powerful', '1'], ['needle', '1'], ['UK', '1'], ['the rainbow family podcast', '1'], ['Rock Anglais', '1'], ['music that gets me pumped up', '1'], ['Planet Earth', '1'], ['weird time signature', '1'], ['perfect opener', '1'], ['have to dance to this', '1'], ['radi', '1'], ['big brother is watching you', '1'], ['nineteen eighty-four', '1'], ['Sweet sweet devotion', '1'], ['relaxing', '1'], ['ass-kicking', '1'], ['dinle', '1'], ['AmandaOrelha', '1'], ['Listen it', '1'], ['Left of the Dial', '1'], ['walter sobchak', '1'], ['Beloved tracks', '1'], ['the good', '1'], ['favorite alternative rock', '1'], ['traumatic', '1'], ['cool song titles', '1'], ['Independent Rock', '1'], ['Mind blowing', '1'], ['Alternative favorites', '1'], ['design', '1'], ['Love', '1'], ['favourite', '1'], ['lounge', '1'], ['thats genuis', '1'], ['heartsing', '1'], ['agressive', '1'], ['really rather lukewarm', '1'], ['couldnt live without', '1'], ['fall asleep and wake up in 3 minutes', '1'], ['a storm is abrewin', '1'], ['Schmeisst die Moebel aus dem Fenster', '1'], ['electroyes', '1'], ['bit like bodysnatchers', '1'], ['great guitar kick in', '1'], ['waily chorusy thom yorke', '1'], ['best songs of the 00s', '1'], ['Alternative RockBritpopIndie RockIndieBritishRockAlternativeElectronic', '1'], ['Bikey Jumpy', '1'], ['Wind-Songs', '1'], ['pin in my heart', '1'], ['the nowhere place', '1'], ['cathartic shot', '1']]\n",
      "['alternative rock', 'rock', 'indie rock', 'electronic', 'art rock', 'experimental', 'lounge']\n",
      "\n",
      "[['Kanye West', '100'], ['kanyes art', '60'], ['janet jackson', '60'], ['female vocalists', '60'], ['divas', '60'], ['r and b', '60'], ['grooves', '60'], ['00s', '40'], ['My Addictionz', '20'], ['Jam and Lewis', '20'], ['jacksons', '20'], ['clean', '20'], ['New Soul - Hip Hop - Rap', '20'], ['m', '20'], ['collaborations', '20'], ['mixtape', '20'], ['2004', '20'], ['american', '20'], ['rnb', '20'], ['dance', '20'], ['pop', '20'], ['female vocalist', '20'], ['funk', '20'], ['soul', '20']]\n",
      "['pop', 'funk', 'soul']\n",
      "\n",
      "[]\n",
      "[]\n",
      "\n",
      "[['Gothic Metal', '100'], ['female vocalists', '45'], ['Atmospheric metal', '36'], ['symphonic metal', '36'], ['Female fronted metal', '27'], ['metal', '27'], ['Progressive metal', '27'], ['Alternate Rock', '18'], ['atmospheric', '18'], ['trip-rock', '9'], ['not gothic', '9'], ['Gathering', '9'], ['loved', '9'], ['Psychedelic metal', '9'], ['best of metal', '9'], ['not gothic metal', '9'], ['fts', '9'], ['honcuks choice', '9'], ['nature-inspired', '9'], ['atmospheric heavy rock', '9'], ['Best Of Favorite Artists', '9'], ['lacrimaindarkness', '9'], ['a la pink floyd', '9'], ['Best Of Alternate Rock', '9'], ['Psychedelic Rock', '9'], ['psychedelic', '9'], ['Power metal', '9'], ['alternative rock', '9'], ['experimental', '9'], ['Gothic', '9'], ['spring', '9'], ['female', '9'], ['90s', '9'], ['ethereal', '9'], ['Dreamy', '9'], ['Symphonic Rock', '9'], ['opera metal', '9'], ['great voice', '9'], ['experimental metal', '9'], ['fiesta', '9'], ['seen live', '0'], ['over 5 minutes long', '0'], ['played at an edgar general night', '0'], ['for: js-dusk-mellow', '0'], ['Similar Tracks: The Gathering - In Motion 2', '0'], ['similar tracks: the gathering - Leaves', '0'], ['transym', '0']]\n",
      "['gothic metal', 'symphonic metal', 'metal', 'progressive metal', 'psychedelic rock', 'power metal', 'alternative rock', 'experimental', 'symphonic rock']\n",
      "\n"
     ]
    }
   ],
   "source": [
    "# Check for a couple of tracks\n",
    "for path in list(Path(\"data/lastfm_subset\").glob(\"*/*/*/*.json\"))[:20]:\n",
    "    with open(path, 'r') as f:\n",
    "        data = json.load(f)\n",
    "        print(data['tags'])\n",
    "        print(get_genres(data))\n",
    "        print()"
   ]
  },
  {
   "cell_type": "markdown",
   "id": "c9f23651-8bf9-4b46-babe-8e59b1880764",
   "metadata": {},
   "source": [
    "There are many tracks for which no genre tags are found. That's fine, we will remove them from the training & evaluation data. The number of tags differs a lot per track, some have many, others have none. As a result, the number of genre tags differs quite a bit. We will take this into account for our evaluation metrics. First, let's plot the distribution of valid genre tags."
   ]
  },
  {
   "cell_type": "code",
   "execution_count": 12,
   "id": "334386d4-aa62-4af8-8d02-302822088418",
   "metadata": {},
   "outputs": [],
   "source": [
    "# Iterate over all tracks\n",
    "# Keep a mapping of track: genre tags\n",
    "track_genres_map = {}\n",
    "\n",
    "for path in list(Path(\"data/lastfm_subset\").glob(\"*/*/*/*.json\")):\n",
    "    with open(path, 'r') as f:\n",
    "        data = json.load(f)\n",
    "        track_genres = get_genres(data)\n",
    "        track_genres_map[path.stem] = track_genres"
   ]
  },
  {
   "cell_type": "code",
   "execution_count": 13,
   "id": "bff05262-1beb-494f-9d2f-ac47c8779b9c",
   "metadata": {},
   "outputs": [
    {
     "data": {
      "text/plain": [
       "9330"
      ]
     },
     "execution_count": 13,
     "metadata": {},
     "output_type": "execute_result"
    }
   ],
   "source": [
    "len(track_genres_map)"
   ]
  },
  {
   "cell_type": "code",
   "execution_count": 21,
   "id": "ec038883-56f2-420e-9db0-349480d4d9d1",
   "metadata": {},
   "outputs": [
    {
     "name": "stdout",
     "output_type": "stream",
     "text": [
      "28\n"
     ]
    },
    {
     "data": {
      "image/png": "[encoded data removed]",
      "text/plain": [
       "<Figure size 640x480 with 1 Axes>"
      ]
     },
     "metadata": {},
     "output_type": "display_data"
    }
   ],
   "source": [
    "num_genres_count = [len(v) for _, v in track_genres_map.items()]\n",
    "print(max(num_genres_count))\n",
    "plt.hist(num_genres_count, bins=np.arange(30))\n",
    "plt.show()"
   ]
  },
  {
   "cell_type": "code",
   "execution_count": 23,
   "id": "f619a9bd-d154-41d1-8582-5cd9fc23f274",
   "metadata": {},
   "outputs": [],
   "source": [
    "genres_counter = Counter()\n",
    "for _, v in track_genres_map.items():\n",
    "    genres_counter.update(v)"
   ]
  },
  {
   "cell_type": "code",
   "execution_count": 38,
   "id": "391a24e0-4955-4202-bd31-d2edb261daf5",
   "metadata": {
    "scrolled": true
   },
   "outputs": [
    {
     "data": {
      "text/plain": [
       "[('rock', 1161),\n",
       " ('pop', 746),\n",
       " ('hip hop', 530),\n",
       " ('alternative rock', 414),\n",
       " ('classic rock', 385),\n",
       " ('blues', 366),\n",
       " ('hard rock', 358),\n",
       " ('metal', 340),\n",
       " ('electronic', 339),\n",
       " ('singer songwriter', 309),\n",
       " ('punk', 304),\n",
       " ('soul', 265),\n",
       " ('jazz', 236),\n",
       " ('indie rock', 225),\n",
       " ('pop rock', 217),\n",
       " ('country', 217),\n",
       " ('blues rock', 214),\n",
       " ('rap', 206),\n",
       " ('electronica', 184),\n",
       " ('folk', 179),\n",
       " ('soundtrack', 170),\n",
       " ('hardcore', 167),\n",
       " ('experimental', 162),\n",
       " ('easy listening', 152),\n",
       " ('reggae', 151),\n",
       " ('ambient', 145),\n",
       " ('funk', 141),\n",
       " ('latin', 137),\n",
       " ('emo', 136),\n",
       " ('progressive rock', 129),\n",
       " ('romantic', 118),\n",
       " ('post punk', 112),\n",
       " ('new wave', 109),\n",
       " ('soft rock', 104),\n",
       " ('downtempo', 97),\n",
       " ('electro', 94),\n",
       " ('grunge', 88),\n",
       " ('death metal', 87),\n",
       " ('pop punk', 86),\n",
       " ('post hardcore', 85),\n",
       " ('world', 85),\n",
       " ('indie pop', 82),\n",
       " ('britpop', 80),\n",
       " ('black metal', 77),\n",
       " ('folk rock', 76),\n",
       " ('lounge', 73),\n",
       " ('house', 73),\n",
       " ('new age', 73),\n",
       " ('techno', 72),\n",
       " ('underground hip hop', 71),\n",
       " ('hardcore punk', 69),\n",
       " ('glam rock', 68),\n",
       " ('rock and roll', 67),\n",
       " ('psychedelic rock', 65),\n",
       " ('trance', 64),\n",
       " ('metalcore', 64),\n",
       " ('trip hop', 63),\n",
       " ('progressive metal', 62),\n",
       " ('screamo', 61),\n",
       " ('nu metal', 59),\n",
       " ('alternative metal', 59),\n",
       " ('garage rock', 57),\n",
       " ('ska', 55),\n",
       " ('folk metal', 54),\n",
       " ('smooth jazz', 53),\n",
       " ('dance pop', 52),\n",
       " ('celtic', 51),\n",
       " ('industrial', 50),\n",
       " ('dancehall', 50),\n",
       " ('southern rock', 49),\n",
       " ('synthpop', 49),\n",
       " ('latin pop', 48),\n",
       " ('post rock', 47),\n",
       " ('salsa', 47),\n",
       " ('stoner rock', 46),\n",
       " ('chill out', 45),\n",
       " ('melodic death metal', 45),\n",
       " ('roots reggae', 42),\n",
       " ('post grunge', 42),\n",
       " ('gospel', 42),\n",
       " ('dub', 41),\n",
       " ('power pop', 40),\n",
       " ('doom metal', 40),\n",
       " ('neo soul', 39),\n",
       " ('comedy', 39),\n",
       " ('glam metal', 39),\n",
       " ('disco', 38),\n",
       " ('classical', 37),\n",
       " ('thrash metal', 35),\n",
       " ('gothic rock', 34),\n",
       " ('gothic metal', 32),\n",
       " ('industrial metal', 32),\n",
       " ('christmas', 32),\n",
       " ('motown', 32),\n",
       " ('indietronica', 30),\n",
       " ('noise', 30),\n",
       " ('power metal', 29),\n",
       " ('breakbeat', 29),\n",
       " ('grindcore', 29),\n",
       " ('symphonic metal', 28)]"
      ]
     },
     "execution_count": 38,
     "metadata": {},
     "output_type": "execute_result"
    }
   ],
   "source": [
    "genres_counter.most_common(100)"
   ]
  },
  {
   "cell_type": "code",
   "execution_count": 39,
   "id": "5b6db9e6-812b-4b7c-afcb-e2bc09c6359b",
   "metadata": {
    "scrolled": true
   },
   "outputs": [
    {
     "data": {
      "image/png": "[encoded data removed]",
      "text/plain": [
       "<Figure size 500x1500 with 1 Axes>"
      ]
     },
     "metadata": {},
     "output_type": "display_data"
    }
   ],
   "source": [
    "top_genres, top_genres_count = zip(*genres_counter.most_common())\n",
    "fig, ax = plt.subplots(figsize=(5,15))\n",
    "ax.barh(top_genres[:100], top_genres_count[:100])\n",
    "ax.invert_yaxis()  # labels read top-to-bottom\n",
    "plt.show()"
   ]
  },
  {
   "cell_type": "code",
   "execution_count": 42,
   "id": "24552efc-1967-41a0-ab39-4ce058e79fd1",
   "metadata": {
    "scrolled": true
   },
   "outputs": [
    {
     "data": {
      "text/plain": [
       "[('turkish pop', 2),\n",
       " ('hardstyle', 3),\n",
       " ('deep vocal house', 2),\n",
       " ('disco house', 4),\n",
       " ('no wave', 4),\n",
       " ('harp', 4),\n",
       " ('geek rock', 4),\n",
       " ('christian hardcore', 2),\n",
       " ('healing', 3),\n",
       " ('rock gaucho', 1),\n",
       " ('rap metal', 4),\n",
       " ('horrorcore', 4),\n",
       " ('hardcore hip hop', 1),\n",
       " ('electropunk', 3),\n",
       " ('funky breaks', 1),\n",
       " ('new orleans blues', 2),\n",
       " ('christian christmas', 3),\n",
       " ('jerk', 2),\n",
       " ('mod revival', 4),\n",
       " ('southern hip hop', 2),\n",
       " ('zydeco', 3),\n",
       " ('gothic doom', 1),\n",
       " ('new age piano', 1),\n",
       " ('french folk', 1),\n",
       " ('jazz metal', 2),\n",
       " ('neo psychedelic', 3),\n",
       " ('abstract', 4),\n",
       " ('beatdown', 2),\n",
       " ('steampunk', 2),\n",
       " ('drone metal', 1),\n",
       " ('texas country', 4),\n",
       " ('j rock', 3),\n",
       " ('pop rap', 4),\n",
       " ('merengue', 3),\n",
       " ('cowpunk', 2),\n",
       " ('colombian rock', 1),\n",
       " ('chillwave', 1),\n",
       " ('baroque', 2),\n",
       " ('deathgrind', 3),\n",
       " ('freakbeat', 2),\n",
       " ('contemporary country', 4),\n",
       " ('tribute', 4),\n",
       " ('tzadik', 1),\n",
       " ('choral', 1),\n",
       " ('schlager', 4),\n",
       " ('cello', 4),\n",
       " ('dub techno', 2),\n",
       " ('detroit techno', 1),\n",
       " ('minimal dub', 1),\n",
       " ('crunk', 4),\n",
       " ('traditional folk', 2),\n",
       " ('british folk', 3),\n",
       " ('desert blues', 2),\n",
       " ('maghreb', 2),\n",
       " ('afrobeat', 4),\n",
       " ('chill groove', 2),\n",
       " ('merseybeat', 1),\n",
       " ('hyphy', 1),\n",
       " ('screamocore', 1),\n",
       " ('punk ska', 1),\n",
       " ('roots rock', 4),\n",
       " ('surf music', 3),\n",
       " ('punjabi', 3),\n",
       " ('polish hip hop', 1),\n",
       " ('dark wave', 3),\n",
       " ('celtic rock', 3),\n",
       " ('pagan black metal', 4),\n",
       " ('straight edge', 1),\n",
       " ('boogaloo', 3),\n",
       " ('soul jazz', 4),\n",
       " ('forro', 1),\n",
       " ('rock steady', 3),\n",
       " ('chamber pop', 4),\n",
       " ('bubblegum pop', 2),\n",
       " ('glitch', 4),\n",
       " ('modern blues', 3),\n",
       " ('outlaw country', 3),\n",
       " ('freak folk', 4),\n",
       " ('praise', 3),\n",
       " ('hi nrg', 1),\n",
       " ('tribal house', 1),\n",
       " ('neurofunk', 3),\n",
       " ('visual kei', 2),\n",
       " ('video game music', 1),\n",
       " ('reggae rock', 1),\n",
       " ('traditional blues', 1),\n",
       " ('tin pan alley', 1),\n",
       " ('chillstep', 1),\n",
       " ('neo metal', 4),\n",
       " ('old time', 2),\n",
       " ('ye ye', 3),\n",
       " ('garage punk', 2),\n",
       " ('jump blues', 2),\n",
       " ('east coast hip hop', 4),\n",
       " ('bounce', 3),\n",
       " ('quebecois', 2),\n",
       " ('illbient', 2),\n",
       " ('piedmont blues', 2),\n",
       " ('jazz bass', 1),\n",
       " ('kabarett', 2),\n",
       " ('hardcore techno', 1),\n",
       " ('ccm', 4),\n",
       " ('boy band', 4),\n",
       " ('neofolk', 3),\n",
       " ('neo pagan', 1),\n",
       " ('new weird america', 3),\n",
       " ('groove metal', 4),\n",
       " ('futurepop', 3),\n",
       " ('ninja', 2),\n",
       " ('comic', 2),\n",
       " ('drama', 3),\n",
       " ('alternative hardcore', 2),\n",
       " ('urban contemporary', 1),\n",
       " ('porro', 1),\n",
       " ('electro dub', 1),\n",
       " ('punk blues', 3),\n",
       " ('sega', 1),\n",
       " ('highlife', 1),\n",
       " ('glitch hop', 1),\n",
       " ('gangster rap', 3),\n",
       " ('skinhead reggae', 2),\n",
       " ('classical piano', 2),\n",
       " ('modern classical', 2),\n",
       " ('hands up', 3),\n",
       " ('trova', 1),\n",
       " ('post disco', 1),\n",
       " ('darkstep', 2),\n",
       " ('makossa', 1),\n",
       " ('reggae fusion', 1),\n",
       " ('a cappella', 4),\n",
       " ('polka', 4),\n",
       " ('medieval rock', 1),\n",
       " ('german metal', 2),\n",
       " ('christian music', 1),\n",
       " ('filter house', 1),\n",
       " ('harmonica blues', 3),\n",
       " ('bhangra', 3),\n",
       " ('desi', 3),\n",
       " ('raw black metal', 1),\n",
       " ('memphis blues', 1),\n",
       " ('folk punk', 3),\n",
       " ('latin hip hop', 1),\n",
       " ('freestyle', 2),\n",
       " ('exotica', 2),\n",
       " ('country christmas', 1),\n",
       " ('acid house', 3),\n",
       " ('c pop', 1),\n",
       " ('austropop', 2),\n",
       " ('german pop', 1),\n",
       " ('christian dance', 1),\n",
       " ('nueva cancion', 2),\n",
       " ('folklore argentino', 1),\n",
       " ('fast melodic punk', 1),\n",
       " ('crossover thrash', 1),\n",
       " ('cabaret', 4),\n",
       " ('irish rock', 2),\n",
       " ('oshare kei', 2),\n",
       " ('indian classical', 1),\n",
       " ('anarcho punk', 1),\n",
       " ('swedish indie pop', 1),\n",
       " ('reading', 1),\n",
       " ('crust punk', 1),\n",
       " ('chilean rock', 1),\n",
       " ('avantgarde metal', 1),\n",
       " ('eurovision', 3),\n",
       " ('didgeridoo', 2),\n",
       " ('liquid funk', 1),\n",
       " ('jump up', 3),\n",
       " ('discofox', 1),\n",
       " ('happy hardcore', 1),\n",
       " ('hip pop', 3),\n",
       " ('chalga', 1),\n",
       " ('funeral doom', 1),\n",
       " ('power violence', 2),\n",
       " ('melodic power metal', 2),\n",
       " ('pop house', 1),\n",
       " ('hollywood', 1),\n",
       " ('kizomba', 2),\n",
       " ('nintendocore', 2),\n",
       " ('aggrotech', 3),\n",
       " ('light music', 1),\n",
       " ('ambient trance', 1),\n",
       " ('miami bass', 1),\n",
       " ('french hip hop', 1),\n",
       " ('comedy rock', 1),\n",
       " ('contemporary folk', 3),\n",
       " ('baile funk', 1),\n",
       " ('marching band', 1),\n",
       " ('motivation', 2),\n",
       " ('dutch house', 1),\n",
       " ('psychedelic blues rock', 1),\n",
       " ('boogie woogie', 1),\n",
       " ('riddim', 1),\n",
       " ('soca', 2),\n",
       " ('broadway', 1),\n",
       " ('vintage jazz', 1),\n",
       " ('barbershop', 1),\n",
       " ('australian indie', 1),\n",
       " ('j indie', 1),\n",
       " ('juggalo', 1),\n",
       " ('abstract hip hop', 3),\n",
       " ('beach music', 3),\n",
       " ('zouglou', 1),\n",
       " ('coupe decale', 1),\n",
       " ('jam band', 3),\n",
       " ('cyber metal', 2),\n",
       " ('traditional country', 2),\n",
       " ('p funk', 2),\n",
       " ('timba', 1),\n",
       " ('anime', 3),\n",
       " ('belly dance', 1),\n",
       " ('neo progressive', 2),\n",
       " ('progressive alternative', 1),\n",
       " ('swamp blues', 1),\n",
       " ('nu skool breaks', 1),\n",
       " ('gothic symphonic metal', 1),\n",
       " ('brill building pop', 2),\n",
       " ('russian alternative', 1),\n",
       " ('neo classical metal', 1),\n",
       " ('hip house', 2),\n",
       " ('mashup', 1),\n",
       " ('idol', 1),\n",
       " ('scottish rock', 1),\n",
       " ('noise pop', 2),\n",
       " ('cumbia villera', 1),\n",
       " ('brutal deathcore', 1),\n",
       " ('dark jazz', 1),\n",
       " ('mariachi', 1),\n",
       " ('bebop', 1),\n",
       " ('avant garde jazz', 1),\n",
       " ('hard bop', 1),\n",
       " ('french rock', 1),\n",
       " ('schranz', 1),\n",
       " ('hardcore breaks', 1),\n",
       " ('canadian indie', 1),\n",
       " ('depressive black metal', 1),\n",
       " ('musique concrete', 2),\n",
       " ('acousmatic', 1),\n",
       " ('military band', 1),\n",
       " ('spanish pop rock', 1),\n",
       " ('jumpstyle', 2),\n",
       " ('spanish indie pop', 1),\n",
       " ('hard trance', 1),\n",
       " ('deep ambient', 1),\n",
       " ('outsider', 1),\n",
       " ('pop emo', 1),\n",
       " ('german indie', 1),\n",
       " ('wrestling', 1),\n",
       " ('neoclassical', 1),\n",
       " ('cantopop', 1),\n",
       " ('wonky', 1),\n",
       " ('broken beat', 1),\n",
       " ('axe', 1)]"
      ]
     },
     "execution_count": 42,
     "metadata": {},
     "output_type": "execute_result"
    }
   ],
   "source": [
    "# There are a large number of genres that appear very rarely.\n",
    "[(k, v) for k, v in genres_counter.items() if v < 5]"
   ]
  },
  {
   "cell_type": "markdown",
   "id": "249adb63-24b1-465b-988b-a58689c888dc",
   "metadata": {},
   "source": [
    "### Genre labels conclusions\n",
    "\n",
    "* The genre labels follow a long-tail distribution. We will filter out any genres that do not appear in the top K (say 100)\n",
    "* Many tracks do not have any genre labels assigned. We will discard tracks from the training data that have empty list of genres after filtering.\n",
    "* The task will be treated as multi-label classification. "
   ]
  },
  {
   "cell_type": "markdown",
   "id": "ca48d892-a76d-4042-82ef-d53b9fefc5a2",
   "metadata": {},
   "source": [
    "## Feature selection"
   ]
  },
  {
   "cell_type": "code",
   "execution_count": 2,
   "id": "acb6c55f-a87a-49d9-94a3-561ea997a812",
   "metadata": {},
   "outputs": [],
   "source": [
    "song_file = \"data/MillionSongSubset/A/X/L/TRAXLZU12903D05F94.h5\" "
   ]
  },
  {
   "cell_type": "markdown",
   "id": "616c38f9-4da2-4b66-99ee-9147265d0902",
   "metadata": {},
   "source": [
    "For this task we will only use the analysis features, to simulate the case where we receive the raw audio, extract features and then classify genre, without additional metadata about the artist."
   ]
  },
  {
   "cell_type": "markdown",
   "id": "df794a65-b3c9-453a-98ec-ced89be4d197",
   "metadata": {},
   "source": [
    "We can extract the genres from the h5 files directly instead of using lastfm data."
   ]
  },
  {
   "cell_type": "code",
   "execution_count": 9,
   "id": "ba785b41-79e7-4bde-b528-e302408cb97b",
   "metadata": {},
   "outputs": [
    {
     "name": "stdout",
     "output_type": "stream",
     "text": [
      "['dance pop', 'rock', 'pop', 'soul']\n"
     ]
    }
   ],
   "source": [
    "with h5py.File(song_file, \"r\") as f:\n",
    "    tags = [s.decode('UTF-8') for s in f['metadata']['artist_terms'][()]]\n",
    "    genre_tags = [normalize_genre(tag) for tag in tags]\n",
    "    genre_tags = [tag for tag in genre_tags if tag in SPOTIFY_GENRES]\n",
    "    print(genre_tags)"
   ]
  },
  {
   "cell_type": "code",
   "execution_count": 10,
   "id": "544fd1af-9207-41f5-9692-6d1a131fbfbf",
   "metadata": {},
   "outputs": [
    {
     "name": "stdout",
     "output_type": "stream",
     "text": [
      "Keys: <KeysViewHDF5 ['analysis', 'metadata', 'musicbrainz']>\n",
      "Analysis: <KeysViewHDF5 ['bars_confidence', 'bars_start', 'beats_confidence', 'beats_start', 'sections_confidence', 'sections_start', 'segments_confidence', 'segments_loudness_max', 'segments_loudness_max_time', 'segments_loudness_start', 'segments_pitches', 'segments_start', 'segments_timbre', 'songs', 'tatums_confidence', 'tatums_start']>\n",
      "Metadata: <KeysViewHDF5 ['artist_terms', 'artist_terms_freq', 'artist_terms_weight', 'similar_artists', 'songs']>\n",
      "Musicbrainz: <KeysViewHDF5 ['artist_mbtags', 'artist_mbtags_count', 'songs']>\n"
     ]
    }
   ],
   "source": [
    "# List all keys per group\n",
    "with h5py.File(song_file, \"r\") as f:\n",
    "    print(\"Keys:\", f.keys()) \n",
    "    print(\"Analysis:\", f['analysis'].keys())\n",
    "    print(\"Metadata:\", f['metadata'].keys())\n",
    "    print(\"Musicbrainz:\", f['musicbrainz'].keys())    "
   ]
  },
  {
   "cell_type": "code",
   "execution_count": 23,
   "id": "9b9c32d1-d08e-4907-b3dd-3df0cb7065e1",
   "metadata": {},
   "outputs": [
    {
     "name": "stdout",
     "output_type": "stream",
     "text": [
      "1987\n"
     ]
    }
   ],
   "source": [
    "with h5py.File(song_file, \"r\") as f:\n",
    "    print(f['musicbrainz']['songs']['year'][0])"
   ]
  },
  {
   "cell_type": "code",
   "execution_count": 55,
   "id": "5d335335-9c7e-4b84-9411-222c24fc6f42",
   "metadata": {},
   "outputs": [
    {
     "name": "stdout",
     "output_type": "stream",
     "text": [
      "['uk', 'british', 'english', 'classic pop and rock']\n",
      "['dance pop', 'rock', 'pop', 'england', 'adult contemporary', 'ballad', 'club', 'classic', 'male', 'cover', 'soul', '80s']\n"
     ]
    }
   ],
   "source": [
    "# List tags of a song\n",
    "with h5py.File(song_file, \"r\") as f:\n",
    "    print([s.decode('UTF-8') for s in f['musicbrainz']['artist_mbtags'][()]])\n",
    "    print([s.decode('UTF-8') for s in f['metadata']['artist_terms'][()]])"
   ]
  },
  {
   "cell_type": "code",
   "execution_count": 36,
   "id": "5cb7d7cd-6f35-474c-8936-00bef4666b6f",
   "metadata": {
    "scrolled": true
   },
   "outputs": [
    {
     "name": "stdout",
     "output_type": "stream",
     "text": [
      "bars_confidence\n",
      "<HDF5 dataset \"bars_confidence\": shape (99,), type \"<f8\">\n",
      "bars_start\n",
      "<HDF5 dataset \"bars_start\": shape (99,), type \"<f8\">\n",
      "beats_confidence\n",
      "<HDF5 dataset \"beats_confidence\": shape (397,), type \"<f8\">\n",
      "beats_start\n",
      "<HDF5 dataset \"beats_start\": shape (397,), type \"<f8\">\n",
      "sections_confidence\n",
      "<HDF5 dataset \"sections_confidence\": shape (10,), type \"<f8\">\n",
      "sections_start\n",
      "<HDF5 dataset \"sections_start\": shape (10,), type \"<f8\">\n",
      "segments_confidence\n",
      "<HDF5 dataset \"segments_confidence\": shape (935,), type \"<f8\">\n",
      "segments_loudness_max\n",
      "<HDF5 dataset \"segments_loudness_max\": shape (935,), type \"<f8\">\n",
      "segments_loudness_max_time\n",
      "<HDF5 dataset \"segments_loudness_max_time\": shape (935,), type \"<f8\">\n",
      "segments_loudness_start\n",
      "<HDF5 dataset \"segments_loudness_start\": shape (935,), type \"<f8\">\n",
      "segments_pitches\n",
      "<HDF5 dataset \"segments_pitches\": shape (935, 12), type \"<f8\">\n",
      "segments_start\n",
      "<HDF5 dataset \"segments_start\": shape (935,), type \"<f8\">\n",
      "segments_timbre\n",
      "<HDF5 dataset \"segments_timbre\": shape (935, 12), type \"<f8\">\n",
      "songs\n",
      "<HDF5 dataset \"songs\": shape (1,), type \"|V220\">\n",
      "tatums_confidence\n",
      "<HDF5 dataset \"tatums_confidence\": shape (794,), type \"<f8\">\n",
      "tatums_start\n",
      "<HDF5 dataset \"tatums_start\": shape (794,), type \"<f8\">\n",
      "============\n",
      "[('analysis_sample_rate', '<i4'), ('audio_md5', 'S32'), ('danceability', '<f8'), ('duration', '<f8'), ('end_of_fade_in', '<f8'), ('energy', '<f8'), ('idx_bars_confidence', '<i4'), ('idx_bars_start', '<i4'), ('idx_beats_confidence', '<i4'), ('idx_beats_start', '<i4'), ('idx_sections_confidence', '<i4'), ('idx_sections_start', '<i4'), ('idx_segments_confidence', '<i4'), ('idx_segments_loudness_max', '<i4'), ('idx_segments_loudness_max_time', '<i4'), ('idx_segments_loudness_start', '<i4'), ('idx_segments_pitches', '<i4'), ('idx_segments_start', '<i4'), ('idx_segments_timbre', '<i4'), ('idx_tatums_confidence', '<i4'), ('idx_tatums_start', '<i4'), ('key', '<i4'), ('key_confidence', '<f8'), ('loudness', '<f8'), ('mode', '<i4'), ('mode_confidence', '<f8'), ('start_of_fade_out', '<f8'), ('tempo', '<f8'), ('time_signature', '<i4'), ('time_signature_confidence', '<f8'), ('track_id', 'S32')]\n",
      "============\n"
     ]
    }
   ],
   "source": [
    "with h5py.File(song_file, \"r\") as f:\n",
    "    for analysis_key in f['analysis'].keys():\n",
    "        print(analysis_key)\n",
    "        print(f['analysis'][analysis_key])\n",
    "    print(\"============\")\n",
    "    print(f['analysis']['songs'].dtype)\n",
    "    print(\"============\")"
   ]
  },
  {
   "cell_type": "code",
   "execution_count": 31,
   "id": "073069f9-03b1-4341-ad94-dfb9a3a49407",
   "metadata": {},
   "outputs": [
    {
     "name": "stdout",
     "output_type": "stream",
     "text": [
      "[('analysis_sample_rate', '<i4'), ('audio_md5', 'S32'), ('danceability', '<f8'), ('duration', '<f8'), ('end_of_fade_in', '<f8'), ('energy', '<f8'), ('idx_bars_confidence', '<i4'), ('idx_bars_start', '<i4'), ('idx_beats_confidence', '<i4'), ('idx_beats_start', '<i4'), ('idx_sections_confidence', '<i4'), ('idx_sections_start', '<i4'), ('idx_segments_confidence', '<i4'), ('idx_segments_loudness_max', '<i4'), ('idx_segments_loudness_max_time', '<i4'), ('idx_segments_loudness_start', '<i4'), ('idx_segments_pitches', '<i4'), ('idx_segments_start', '<i4'), ('idx_segments_timbre', '<i4'), ('idx_tatums_confidence', '<i4'), ('idx_tatums_start', '<i4'), ('key', '<i4'), ('key_confidence', '<f8'), ('loudness', '<f8'), ('mode', '<i4'), ('mode_confidence', '<f8'), ('start_of_fade_out', '<f8'), ('tempo', '<f8'), ('time_signature', '<i4'), ('time_signature_confidence', '<f8'), ('track_id', 'S32')]\n",
      "0.0\n"
     ]
    }
   ],
   "source": [
    "# List of song metadata\n",
    "with h5py.File(song_file, \"r\") as f:\n",
    "    print(f['analysis']['songs'].dtype)\n",
    "    print(f['analysis']['songs']['danceability'][0])"
   ]
  },
  {
   "cell_type": "markdown",
   "id": "3b6ea6fd-42f1-41a5-bee5-0d75a167999e",
   "metadata": {},
   "source": [
    "## Extracting MFCC-like features\n",
    "\n",
    "These describe the source audio and could be used to train a model for genre classification directly. "
   ]
  },
  {
   "cell_type": "code",
   "execution_count": 29,
   "id": "07f4557d-ad33-48b5-b6c3-0377724df5e1",
   "metadata": {},
   "outputs": [
    {
     "name": "stdout",
     "output_type": "stream",
     "text": [
      "(544, 12)\n"
     ]
    },
    {
     "data": {
      "image/png": "[encoded data removed]",
      "text/plain": [
       "<Figure size 640x480 with 1 Axes>"
      ]
     },
     "metadata": {},
     "output_type": "display_data"
    }
   ],
   "source": [
    "with h5py.File(song_file, \"r\") as f:\n",
    "    segments_timbre = f['analysis']['segments_timbre'][()]\n",
    "    print(segments_timbre.shape)\n",
    "    plt.imshow(segments_timbre[:100].T)\n",
    "    plt.show()"
   ]
  },
  {
   "cell_type": "markdown",
   "id": "6af4f196-ac00-49c9-9336-a2109a679d0e",
   "metadata": {},
   "source": [
    "## Building a pandas dataframe of featuers & labels"
   ]
  },
  {
   "cell_type": "code",
   "execution_count": 24,
   "id": "d4c41700-46fe-4439-8fec-3bcf2993ccd9",
   "metadata": {},
   "outputs": [],
   "source": [
    "ANALYSIS_FEATURE_NAMES = [\n",
    "    \"danceability\", \"duration\", \"energy\", \"key\", \"loudness\", \"mode\", \"tempo\"\n",
    "]\n",
    "MUSICBRAINZ_FEATURE_NAMES = [\"year\"]\n",
    "def get_features(h5_file):\n",
    "    feature_values = []\n",
    "    for feature_name in ANALYSIS_FEATURE_NAMES:\n",
    "        feature_value = h5_file['analysis']['songs'][feature_name][0]\n",
    "        feature_values.append(feature_value)\n",
    "    for feature_name in MUSICBRAINZ_FEATURE_NAMES:\n",
    "        feature_value = h5_file['musicbrainz']['songs'][feature_name][0]\n",
    "        feature_values.append(feature_value)\n",
    "    return feature_values\n",
    "\n",
    "def get_genres(h5_file, genre_filter: list[str] = SPOTIFY_GENRES) -> list[str]:\n",
    "    tags = [s.decode('UTF-8') for s in h5_file['metadata']['artist_terms'][()]]\n",
    "    genre_tags = [normalize_genre(tag) for tag in tags]\n",
    "    genre_tags = [tag for tag in genre_tags if tag in genre_filter]\n",
    "    return genre_tags"
   ]
  },
  {
   "cell_type": "code",
   "execution_count": 26,
   "id": "8deb0b8a-1f96-43f5-bebf-f0fa935694ff",
   "metadata": {},
   "outputs": [
    {
     "name": "stdout",
     "output_type": "stream",
     "text": [
      "[np.float64(0.0), np.float64(211.69587), np.float64(0.0), np.int32(1), np.float64(-7.75), np.int32(1), np.float64(113.359), np.int32(1987)]\n",
      "['dance pop', 'rock', 'pop', 'soul']\n"
     ]
    }
   ],
   "source": [
    "song_file = \"data/MillionSongSubset/A/X/L/TRAXLZU12903D05F94.h5\" \n",
    "\n",
    "with h5py.File(song_file, \"r\") as f:\n",
    "    print(get_features(f))\n",
    "    print(get_genres(f))"
   ]
  },
  {
   "cell_type": "code",
   "execution_count": 27,
   "id": "435cd9df-1faa-4fe6-9bf0-9299e795a90d",
   "metadata": {
    "scrolled": true
   },
   "outputs": [
    {
     "data": {
      "application/vnd.jupyter.widget-view+json": {
       "model_id": "c417825f3a1a4342a5ac22c998a4cec7",
       "version_major": 2,
       "version_minor": 0
      },
      "text/plain": [
       "  0%|          | 0/10000 [00:00<?, ?it/s]"
      ]
     },
     "metadata": {},
     "output_type": "display_data"
    }
   ],
   "source": [
    "data = []\n",
    "for song_file in tqdm(list(Path('.').glob(\"data/MillionSongSubset/*/*/*/*.h5\"))):\n",
    "    track_id = song_file.stem\n",
    "    with h5py.File(song_file, \"r\") as f:\n",
    "        features = get_features(f)\n",
    "        genres = get_genres(f)\n",
    "    data.append([\n",
    "        track_id,\n",
    "        *features,\n",
    "        genres\n",
    "    ])"
   ]
  },
  {
   "cell_type": "code",
   "execution_count": 29,
   "id": "e886f4d0-4ea9-40eb-8bbd-ad0f950e0ffb",
   "metadata": {},
   "outputs": [],
   "source": [
    "df = pd.DataFrame(data, columns=['track_id', *ANALYSIS_FEATURE_NAMES, *MUSICBRAINZ_FEATURE_NAMES, 'genres'])"
   ]
  },
  {
   "cell_type": "code",
   "execution_count": 30,
   "id": "4234bb6c-9c93-4d13-9a31-31f81f8c1b48",
   "metadata": {},
   "outputs": [
    {
     "data": {
      "text/html": [
       "<div>\n",
       "<style scoped>\n",
       "    .dataframe tbody tr th:only-of-type {\n",
       "        vertical-align: middle;\n",
       "    }\n",
       "\n",
       "    .dataframe tbody tr th {\n",
       "        vertical-align: top;\n",
       "    }\n",
       "\n",
       "    .dataframe thead th {\n",
       "        text-align: right;\n",
       "    }\n",
       "</style>\n",
       "<table border=\"1\" class=\"dataframe\">\n",
       "  <thead>\n",
       "    <tr style=\"text-align: right;\">\n",
       "      <th></th>\n",
       "      <th>track_id</th>\n",
       "      <th>danceability</th>\n",
       "      <th>duration</th>\n",
       "      <th>energy</th>\n",
       "      <th>key</th>\n",
       "      <th>loudness</th>\n",
       "      <th>mode</th>\n",
       "      <th>tempo</th>\n",
       "      <th>year</th>\n",
       "      <th>genres</th>\n",
       "    </tr>\n",
       "  </thead>\n",
       "  <tbody>\n",
       "    <tr>\n",
       "      <th>0</th>\n",
       "      <td>TRBGGLA128F149C2EB</td>\n",
       "      <td>0.0</td>\n",
       "      <td>262.34730</td>\n",
       "      <td>0.0</td>\n",
       "      <td>11</td>\n",
       "      <td>-7.673</td>\n",
       "      <td>0</td>\n",
       "      <td>89.912</td>\n",
       "      <td>0</td>\n",
       "      <td>[uk garage, hip hop, gangster rap, rap, electr...</td>\n",
       "    </tr>\n",
       "    <tr>\n",
       "      <th>1</th>\n",
       "      <td>TRBGGRU12903CAAA2D</td>\n",
       "      <td>0.0</td>\n",
       "      <td>159.94730</td>\n",
       "      <td>0.0</td>\n",
       "      <td>0</td>\n",
       "      <td>-32.535</td>\n",
       "      <td>1</td>\n",
       "      <td>72.357</td>\n",
       "      <td>0</td>\n",
       "      <td>[country rock, western swing, gypsy jazz, sing...</td>\n",
       "    </tr>\n",
       "    <tr>\n",
       "      <th>2</th>\n",
       "      <td>TRBGGOS128F9307FC5</td>\n",
       "      <td>0.0</td>\n",
       "      <td>250.77506</td>\n",
       "      <td>0.0</td>\n",
       "      <td>10</td>\n",
       "      <td>-6.188</td>\n",
       "      <td>0</td>\n",
       "      <td>177.963</td>\n",
       "      <td>2002</td>\n",
       "      <td>[neo soul, hip hop, vocal jazz, progressive ho...</td>\n",
       "    </tr>\n",
       "    <tr>\n",
       "      <th>3</th>\n",
       "      <td>TRBGGTE128F424ECBC</td>\n",
       "      <td>0.0</td>\n",
       "      <td>159.26812</td>\n",
       "      <td>0.0</td>\n",
       "      <td>0</td>\n",
       "      <td>-10.599</td>\n",
       "      <td>0</td>\n",
       "      <td>80.945</td>\n",
       "      <td>0</td>\n",
       "      <td>[ccm, christian rock, gospel, blues, pop, soul...</td>\n",
       "    </tr>\n",
       "    <tr>\n",
       "      <th>4</th>\n",
       "      <td>TRBGGOT128F932DC65</td>\n",
       "      <td>0.0</td>\n",
       "      <td>171.98975</td>\n",
       "      <td>0.0</td>\n",
       "      <td>2</td>\n",
       "      <td>-8.002</td>\n",
       "      <td>1</td>\n",
       "      <td>181.002</td>\n",
       "      <td>0</td>\n",
       "      <td>[progressive house, electronic, latin]</td>\n",
       "    </tr>\n",
       "  </tbody>\n",
       "</table>\n",
       "</div>"
      ],
      "text/plain": [
       "             track_id  danceability   duration  energy  key  loudness  mode  \\\n",
       "0  TRBGGLA128F149C2EB           0.0  262.34730     0.0   11    -7.673     0   \n",
       "1  TRBGGRU12903CAAA2D           0.0  159.94730     0.0    0   -32.535     1   \n",
       "2  TRBGGOS128F9307FC5           0.0  250.77506     0.0   10    -6.188     0   \n",
       "3  TRBGGTE128F424ECBC           0.0  159.26812     0.0    0   -10.599     0   \n",
       "4  TRBGGOT128F932DC65           0.0  171.98975     0.0    2    -8.002     1   \n",
       "\n",
       "     tempo  year                                             genres  \n",
       "0   89.912     0  [uk garage, hip hop, gangster rap, rap, electr...  \n",
       "1   72.357     0  [country rock, western swing, gypsy jazz, sing...  \n",
       "2  177.963  2002  [neo soul, hip hop, vocal jazz, progressive ho...  \n",
       "3   80.945     0  [ccm, christian rock, gospel, blues, pop, soul...  \n",
       "4  181.002     0             [progressive house, electronic, latin]  "
      ]
     },
     "execution_count": 30,
     "metadata": {},
     "output_type": "execute_result"
    }
   ],
   "source": [
    "df.head()"
   ]
  },
  {
   "cell_type": "code",
   "execution_count": 31,
   "id": "bca0eedf-7f0a-45f6-bf00-9d49fec4016e",
   "metadata": {},
   "outputs": [
    {
     "data": {
      "text/html": [
       "<div>\n",
       "<style scoped>\n",
       "    .dataframe tbody tr th:only-of-type {\n",
       "        vertical-align: middle;\n",
       "    }\n",
       "\n",
       "    .dataframe tbody tr th {\n",
       "        vertical-align: top;\n",
       "    }\n",
       "\n",
       "    .dataframe thead th {\n",
       "        text-align: right;\n",
       "    }\n",
       "</style>\n",
       "<table border=\"1\" class=\"dataframe\">\n",
       "  <thead>\n",
       "    <tr style=\"text-align: right;\">\n",
       "      <th></th>\n",
       "      <th>danceability</th>\n",
       "      <th>duration</th>\n",
       "      <th>energy</th>\n",
       "      <th>key</th>\n",
       "      <th>loudness</th>\n",
       "      <th>mode</th>\n",
       "      <th>tempo</th>\n",
       "      <th>year</th>\n",
       "    </tr>\n",
       "  </thead>\n",
       "  <tbody>\n",
       "    <tr>\n",
       "      <th>count</th>\n",
       "      <td>10000.0</td>\n",
       "      <td>10000.000000</td>\n",
       "      <td>10000.0</td>\n",
       "      <td>10000.000000</td>\n",
       "      <td>10000.000000</td>\n",
       "      <td>10000.000000</td>\n",
       "      <td>10000.000000</td>\n",
       "      <td>10000.000000</td>\n",
       "    </tr>\n",
       "    <tr>\n",
       "      <th>mean</th>\n",
       "      <td>0.0</td>\n",
       "      <td>238.507518</td>\n",
       "      <td>0.0</td>\n",
       "      <td>5.276100</td>\n",
       "      <td>-10.485668</td>\n",
       "      <td>0.691100</td>\n",
       "      <td>122.915449</td>\n",
       "      <td>934.704600</td>\n",
       "    </tr>\n",
       "    <tr>\n",
       "      <th>std</th>\n",
       "      <td>0.0</td>\n",
       "      <td>114.137514</td>\n",
       "      <td>0.0</td>\n",
       "      <td>3.554087</td>\n",
       "      <td>5.399788</td>\n",
       "      <td>0.462063</td>\n",
       "      <td>35.184412</td>\n",
       "      <td>996.650657</td>\n",
       "    </tr>\n",
       "    <tr>\n",
       "      <th>min</th>\n",
       "      <td>0.0</td>\n",
       "      <td>1.044440</td>\n",
       "      <td>0.0</td>\n",
       "      <td>0.000000</td>\n",
       "      <td>-51.643000</td>\n",
       "      <td>0.000000</td>\n",
       "      <td>0.000000</td>\n",
       "      <td>0.000000</td>\n",
       "    </tr>\n",
       "    <tr>\n",
       "      <th>25%</th>\n",
       "      <td>0.0</td>\n",
       "      <td>176.032200</td>\n",
       "      <td>0.0</td>\n",
       "      <td>2.000000</td>\n",
       "      <td>-13.163250</td>\n",
       "      <td>0.000000</td>\n",
       "      <td>96.965750</td>\n",
       "      <td>0.000000</td>\n",
       "    </tr>\n",
       "    <tr>\n",
       "      <th>50%</th>\n",
       "      <td>0.0</td>\n",
       "      <td>223.059140</td>\n",
       "      <td>0.0</td>\n",
       "      <td>5.000000</td>\n",
       "      <td>-9.380000</td>\n",
       "      <td>1.000000</td>\n",
       "      <td>120.161000</td>\n",
       "      <td>0.000000</td>\n",
       "    </tr>\n",
       "    <tr>\n",
       "      <th>75%</th>\n",
       "      <td>0.0</td>\n",
       "      <td>276.375060</td>\n",
       "      <td>0.0</td>\n",
       "      <td>8.000000</td>\n",
       "      <td>-6.532500</td>\n",
       "      <td>1.000000</td>\n",
       "      <td>144.013250</td>\n",
       "      <td>2000.000000</td>\n",
       "    </tr>\n",
       "    <tr>\n",
       "      <th>max</th>\n",
       "      <td>0.0</td>\n",
       "      <td>1819.767710</td>\n",
       "      <td>0.0</td>\n",
       "      <td>11.000000</td>\n",
       "      <td>0.566000</td>\n",
       "      <td>1.000000</td>\n",
       "      <td>262.828000</td>\n",
       "      <td>2010.000000</td>\n",
       "    </tr>\n",
       "  </tbody>\n",
       "</table>\n",
       "</div>"
      ],
      "text/plain": [
       "       danceability      duration   energy           key      loudness  \\\n",
       "count       10000.0  10000.000000  10000.0  10000.000000  10000.000000   \n",
       "mean            0.0    238.507518      0.0      5.276100    -10.485668   \n",
       "std             0.0    114.137514      0.0      3.554087      5.399788   \n",
       "min             0.0      1.044440      0.0      0.000000    -51.643000   \n",
       "25%             0.0    176.032200      0.0      2.000000    -13.163250   \n",
       "50%             0.0    223.059140      0.0      5.000000     -9.380000   \n",
       "75%             0.0    276.375060      0.0      8.000000     -6.532500   \n",
       "max             0.0   1819.767710      0.0     11.000000      0.566000   \n",
       "\n",
       "               mode         tempo          year  \n",
       "count  10000.000000  10000.000000  10000.000000  \n",
       "mean       0.691100    122.915449    934.704600  \n",
       "std        0.462063     35.184412    996.650657  \n",
       "min        0.000000      0.000000      0.000000  \n",
       "25%        0.000000     96.965750      0.000000  \n",
       "50%        1.000000    120.161000      0.000000  \n",
       "75%        1.000000    144.013250   2000.000000  \n",
       "max        1.000000    262.828000   2010.000000  "
      ]
     },
     "execution_count": 31,
     "metadata": {},
     "output_type": "execute_result"
    }
   ],
   "source": [
    "df.describe()"
   ]
  },
  {
   "cell_type": "code",
   "execution_count": 32,
   "id": "24574fbe-f04e-408d-a138-ef638d27f648",
   "metadata": {},
   "outputs": [],
   "source": [
    "df.to_parquet(\"data/features.csv\")"
   ]
  }
 ],
 "metadata": {
  "kernelspec": {
   "display_name": "Python 3 (ipykernel)",
   "language": "python",
   "name": "python3"
  },
  "language_info": {
   "codemirror_mode": {
    "name": "ipython",
    "version": 3
   },
   "file_extension": ".py",
   "mimetype": "text/x-python",
   "name": "python",
   "nbconvert_exporter": "python",
   "pygments_lexer": "ipython3",
   "version": "3.12.3"
  }
 },
 "nbformat": 4,
 "nbformat_minor": 5
}
